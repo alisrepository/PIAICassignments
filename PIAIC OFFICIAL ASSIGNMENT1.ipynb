{
 "cells": [
  {
   "cell_type": "code",
   "execution_count": 17,
   "metadata": {},
   "outputs": [],
   "source": [
    "import math\n",
    "import time\n",
    "from datetime import date\n",
    "\n",
    "\n",
    "######  1\n",
    "def calc_area_of_circle(radius):\n",
    "    return (math.pi*(radius**2))\n",
    "\n",
    "\n",
    "######2\n",
    "def check_pos_neg_zero(number):\n",
    "    if number > 0:\n",
    "        return (f\"{number} is positive\")\n",
    "    if number < 0:\n",
    "        return (f\"{number} is negative\")\n",
    "    if number == 0:\n",
    "        return(f\"{number} is zero\")\n",
    "    \n",
    "#### 3\n",
    "\n",
    "def is_completely_divisible(numinator, denominator):\n",
    "    if numinator % denominator == 0:\n",
    "        return (f\"{numinator} numinator and {denominator} denominator are completely divisible\")\n",
    "    else:\n",
    "        return (f\"{numinator} numinator and {denominator} denominator are not completely divisible\")\n",
    "\n",
    "\n",
    "    \n",
    "#### 4\n",
    "def calc_days_btw_dates(first_date_1, second_date_2):\n",
    "    first_date_1 = first_date_1.split(\"/\")\n",
    "    second_date_2 = second_date_2.split(\"/\")\n",
    "    date1 = date(int(first_date_1[-1]), int(first_date_1[-2]), int(first_date_1[-3]))\n",
    "    date2 = date(int(second_date_2[-1]), int(second_date_2[-2]), int(second_date_2[-3]))\n",
    "    return (date2 - date1)\n",
    "\n",
    "\n",
    "#### 5\n",
    "def calc_sphere_area(r):\n",
    "    return f\" area of sphere with {r} radius is {round(((4/3)*math.pi*r*r*r), 2)}\"\n",
    "\n",
    "\n",
    "#### 6\n",
    "def copy_string_n_times(string, n):\n",
    "    return f\"{n} of {string} is {string * n}\"\n",
    "\n",
    "\n",
    "#### 7\n",
    "def is_even_or_odd(num):\n",
    "    if num % 2 == 0:\n",
    "        return f\"{num} is even\"\n",
    "    else:\n",
    "        return f\"{num} is odd\"\n",
    "    \n",
    "\n",
    "#### 8    \n",
    "def is_vowel_r_not(letter):\n",
    "    vowels = [\"A\",\"E\",\"I\",\"O\",\"U\"]\n",
    "    if letter in vowels or letter.upper() in vowels:\n",
    "        return f\"{letter} is vowel\"\n",
    "    else:\n",
    "        return f\"{letter} is not vowel\"\n",
    "    \n",
    "    \n",
    "#### 9\n",
    "def cal_triangle_area(base, height):\n",
    "    return f\"Area of triangle with base{base} and height {height} is {0.5 * base * height}\"\n",
    "\n",
    "\n",
    "#### 10\n",
    "def cal_distance(x1, x2, y1, y2):\n",
    "    return f\"distance between ({x1}, {x2}) and ({y1}, {y2}) is {((x1 - y1)**2 + (x2 - y2)**2)**0.5}\"\n",
    "\n",
    "\n",
    "#### 11\n",
    "def feet2centimeter(feets):\n",
    "    return f\"there are {feets * 30.48} cm in {feets} feets\"\n",
    "\n",
    "\n",
    "#### 12\n",
    "def cal_BMI(height, weight):\n",
    "    return f\"your BMI is {weight / (height/100) ** 2}\"\n",
    "\n",
    "\n",
    "\n",
    "#### 13\n",
    "def sum_of_n_numbers(n):\n",
    "    sum1 = 0\n",
    "    for sum_ in range(n+1):\n",
    "        sum1 += sum_\n",
    "    return f\"sum of positive integers up to {n} is {sum1}\"\n",
    "\n",
    "\n",
    "#### 14\n",
    "def digit_sum_of_num(num):\n",
    "    sum_ = 0\n",
    "    string = \"\"\n",
    "    expression = []\n",
    "    while num > 0:\n",
    "        d = num % 10\n",
    "        expression.append(str(d))\n",
    "        expression.append(\"+\")\n",
    "        num = num // 10\n",
    "        sum_ += d\n",
    "    expression[-1] = \" \"\n",
    "    for i in expression:\n",
    "        string+=i\n",
    "    return f\"sum of expression {string}= {sum_}\"\n",
    "\n",
    "\n",
    "#### 15\n",
    "def decimal2binary(num):\n",
    "    return bin(num)[2:]\n",
    "\n",
    "\n",
    "#### 16\n",
    "def binaryToDecimal(n):\n",
    "    n = str(n)\n",
    "    return int(n,2)\n",
    "\n",
    "\n",
    "#### 17\n",
    "def vowel_consonant_counter(sentence):\n",
    "    vowel = 0\n",
    "    consonant = 0\n",
    "    vowel_letter = [\"A\",\"E\",\"I\",\"O\",\"U\"]\n",
    "\n",
    "    for i in sentence:\n",
    "        if i in vowel_letter or i.upper() in vowel_letter:\n",
    "            vowel += 1\n",
    "        else:\n",
    "            consonant += 1\n",
    "\n",
    "    return f\"vovels = {vowel} \\n consonant = {consonant}\"\n",
    "\n",
    "\n",
    "\n",
    "######18\n",
    "def interest(amount, rate, time):\n",
    "    rt = (rate/100) * time\n",
    "    return amount + rt*amount\n",
    "    \n",
    "\n",
    "######################\n",
    "def reversed_(s): \n",
    "    return s[::-1] \n",
    "#### 19  \n",
    "def isPalindrome(s): \n",
    "    reverse = reversed_(s) \n",
    "  \n",
    "    if (s == reverse): \n",
    "        return f\"{s} is palendrome\"\n",
    "    return f\"{s} is not palendrome\"\n",
    "\n",
    "\n",
    "#### 20\n",
    "def count_alphabets_numbers_special_words(s):\n",
    "    \"\"\"use ascii to check for numbers alphabets special keys etc\"\"\"\n",
    "    numbers = 0\n",
    "    alphabets = 0\n",
    "    spaces = 0\n",
    "    special_chars = 0\n",
    "\n",
    "    index = 0\n",
    "    length = len(s)\n",
    "    while index < length:\n",
    "        if (ord(s[index]) > 64 and ord(s[index]) < 91 or (ord(s[index]) > 96 and ord(s[index]) < 123)):\n",
    "            alphabets += 1\n",
    "        elif ord(s[index]) > 47 and ord(s[index]) < 58:\n",
    "            numbers += 1\n",
    "        elif ord(s[index]) == 32:\n",
    "            spaces += 1\n",
    "        elif ord(s[index]) > 32 and ord(s[index]) < 48:\n",
    "            special_chars += 1\n",
    "\n",
    "        index += 1\n",
    "\n",
    "    return f\"numbers = {numbers} \\n alphabets = {alphabets} \\n spaces = {spaces} \\n special characters = {special_chars}\"\n",
    "\n",
    "\n",
    "\n",
    "#### 21\n",
    "def staric_pyramid(rows):\n",
    "    for i in range(0, rows):\n",
    "        for j in range(0, i+1):\n",
    "            print(\"*\", end = \" \")\n",
    "        print(\"\\r\")\n",
    "    for i in range(rows, 0, -1):\n",
    "        for j in range(0, i - 1):\n",
    "            print(\"*\", end = \" \")\n",
    "        print(\"\\r\")\n",
    "        \n",
    "        \n",
    "    \n",
    "#### 22\n",
    "def number_pyramid(rows):\n",
    "    for i in range(1, rows + 1):\n",
    "        for j in range(1, i+1):\n",
    "            print(j, end = \" \")\n",
    "        print(\"\\r\")\n",
    "    for i in range(rows + 1, 1, -1):\n",
    "        for j in range(1, i - 1):\n",
    "            print(j, end = \" \")\n",
    "        print(\"\\r\")\n",
    "\n",
    "        \n",
    "#### 23\n",
    "def number_triangle(rows):\n",
    "    for i in range(1, rows + 1):\n",
    "        for j in range(1, i+1):\n",
    "            print(i, end = \" \")\n",
    "        print(\"\\r\")\n",
    "    \n",
    "    "
   ]
  },
  {
   "cell_type": "code",
   "execution_count": 95,
   "metadata": {},
   "outputs": [
    {
     "name": "stdout",
     "output_type": "stream",
     "text": [
      "enter radius: 5\n",
      "78.53981633974483\n"
     ]
    }
   ],
   "source": [
    "radius = int(input(\"enter radius: \"))\n",
    "print(calc_area_of_circle(radius))"
   ]
  },
  {
   "cell_type": "code",
   "execution_count": 98,
   "metadata": {},
   "outputs": [
    {
     "name": "stdout",
     "output_type": "stream",
     "text": [
      "enter number: 0\n",
      "0 is zero\n"
     ]
    }
   ],
   "source": [
    "number = int(input(\"enter number: \"))\n",
    "print(check_pos_neg_zero(number))"
   ]
  },
  {
   "cell_type": "code",
   "execution_count": 18,
   "metadata": {},
   "outputs": [
    {
     "name": "stdout",
     "output_type": "stream",
     "text": [
      "enter nominator: 4\n",
      "enter denominator: 2\n",
      "4 numinator and 2 denominator are completely divisible\n"
     ]
    }
   ],
   "source": [
    "numinator_num = int(input(\"enter nominator: \"))\n",
    "denominator_num = int(input(\"enter denominator: \"))\n",
    "print(is_completely_divisible(numinator_num, denominator_num))"
   ]
  },
  {
   "cell_type": "code",
   "execution_count": 19,
   "metadata": {},
   "outputs": [
    {
     "name": "stdout",
     "output_type": "stream",
     "text": [
      "enter first date (dd/mm/yy) formate: 12/12/2019\n",
      "enter second date (dd/mm/yy) formate: 12/12/2020\n",
      "366 days, 0:00:00\n"
     ]
    }
   ],
   "source": [
    "first_date = input(\"enter first date (dd/mm/yy) formate: \")\n",
    "second_date = input(\"enter second date (dd/mm/yy) formate: \")\n",
    "print(calc_days_btw_dates(first_date, second_date))"
   ]
  },
  {
   "cell_type": "code",
   "execution_count": 102,
   "metadata": {},
   "outputs": [
    {
     "name": "stdout",
     "output_type": "stream",
     "text": [
      "enter radius: 1\n",
      " area of sphere with 1 radius is 4.19\n"
     ]
    }
   ],
   "source": [
    "radius = int(input(\"enter radius: \"))\n",
    "print(calc_sphere_area(radius))"
   ]
  },
  {
   "cell_type": "code",
   "execution_count": 103,
   "metadata": {},
   "outputs": [
    {
     "name": "stdout",
     "output_type": "stream",
     "text": [
      "enter string to be copied: qww\n",
      "enter number of copies needed6\n",
      "6 of qww is qwwqwwqwwqwwqwwqww\n"
     ]
    }
   ],
   "source": [
    "string = input(\"enter string to be copied: \")\n",
    "number = int(input(\"enter number of copies needed: \"))\n",
    "print(copy_string_n_times(string, number))"
   ]
  },
  {
   "cell_type": "code",
   "execution_count": 105,
   "metadata": {},
   "outputs": [
    {
     "name": "stdout",
     "output_type": "stream",
     "text": [
      "enter number to check odd even: 8\n",
      "8 is even\n"
     ]
    }
   ],
   "source": [
    "number = int(input(\"enter number to check odd even: \"))\n",
    "print(is_even_or_odd(number))"
   ]
  },
  {
   "cell_type": "code",
   "execution_count": 110,
   "metadata": {},
   "outputs": [
    {
     "name": "stdout",
     "output_type": "stream",
     "text": [
      "enter letter to check if vowel or consonant: D\n",
      "D is not vowel\n"
     ]
    }
   ],
   "source": [
    "letter = input(\"enter letter to check if vowel or not: \")\n",
    "print(is_vowel_r_not(letter))"
   ]
  },
  {
   "cell_type": "code",
   "execution_count": 111,
   "metadata": {},
   "outputs": [
    {
     "name": "stdout",
     "output_type": "stream",
     "text": [
      "enetr base: 5\n",
      "enter height: 4\n",
      "Area of triangle with base5 and height 4 is 10.0\n"
     ]
    }
   ],
   "source": [
    "base  = int(input(\"enetr base: \"))\n",
    "height = int(input(\"enter height: \"))\n",
    "print(cal_triangle_area(base, height))"
   ]
  },
  {
   "cell_type": "code",
   "execution_count": 114,
   "metadata": {},
   "outputs": [
    {
     "name": "stdout",
     "output_type": "stream",
     "text": [
      "enter amount10000\n",
      "enter rate0.1\n",
      "enter time5\n",
      "10050.0\n"
     ]
    }
   ],
   "source": [
    "amount = int(input(\"enter amount: \"))\n",
    "rate = float(input(\"enter rate: \"))\n",
    "time = int(input(\"enter time: \"))\n",
    "print(interest(amount ,rate , time))"
   ]
  },
  {
   "cell_type": "code",
   "execution_count": 115,
   "metadata": {},
   "outputs": [
    {
     "name": "stdout",
     "output_type": "stream",
     "text": [
      "enter x14\n",
      "enter x24\n",
      "enter y14\n",
      "enter y22\n",
      "distance between (4, 4) and (4, 2) is 2.0\n"
     ]
    }
   ],
   "source": [
    "x1 = int(input(\"enter x1: \"))\n",
    "x2 = int(input(\"enter x2: \"))\n",
    "y1 = int(input(\"enter y1: \"))\n",
    "y2 = int(input(\"enter y2: \"))\n",
    "print(cal_distance(x1, x2, y1, y2))"
   ]
  },
  {
   "cell_type": "code",
   "execution_count": 117,
   "metadata": {},
   "outputs": [
    {
     "name": "stdout",
     "output_type": "stream",
     "text": [
      "enter number to be conerted: 5\n",
      "there are 152.4 cm in 5 feets\n"
     ]
    }
   ],
   "source": [
    "num = int(input(\"enter number to be conerted: \"))\n",
    "print(feet2centimeter(num))"
   ]
  },
  {
   "cell_type": "code",
   "execution_count": 119,
   "metadata": {},
   "outputs": [
    {
     "name": "stdout",
     "output_type": "stream",
     "text": [
      "enter height: 180\n",
      "enter weight: 75\n",
      "your BMI is 23.148148148148145\n"
     ]
    }
   ],
   "source": [
    "heigh = int(input(\"enter height: \"))\n",
    "weight = int(input(\"enter weight: \"))\n",
    "print(cal_BMI(heigh, weight))"
   ]
  },
  {
   "cell_type": "code",
   "execution_count": 123,
   "metadata": {},
   "outputs": [
    {
     "name": "stdout",
     "output_type": "stream",
     "text": [
      "enter number: 3\n",
      "sum of positive integers up to 3 is 6\n"
     ]
    }
   ],
   "source": [
    "num = int(input(\"enter number: \"))\n",
    "print(sum_of_n_numbers(num))"
   ]
  },
  {
   "cell_type": "code",
   "execution_count": 125,
   "metadata": {},
   "outputs": [
    {
     "name": "stdout",
     "output_type": "stream",
     "text": [
      "enter number: 12345\n",
      "sum of expression 5+4+3+2+1 = 15\n"
     ]
    }
   ],
   "source": [
    "num = int(input(\"enter number: \"))\n",
    "print(digit_sum_of_num(num))"
   ]
  },
  {
   "cell_type": "code",
   "execution_count": 128,
   "metadata": {},
   "outputs": [
    {
     "name": "stdout",
     "output_type": "stream",
     "text": [
      "enter number to be converted to binary: 7\n",
      "111\n"
     ]
    }
   ],
   "source": [
    "num = int(input(\"enter number to be converted to binary: \"))\n",
    "print(decimal2binary(num))"
   ]
  },
  {
   "cell_type": "code",
   "execution_count": 129,
   "metadata": {},
   "outputs": [
    {
     "name": "stdout",
     "output_type": "stream",
     "text": [
      "enter binary code : 111\n",
      "7\n"
     ]
    }
   ],
   "source": [
    "num_binary = int(input(\"enter binary code : \"))\n",
    "print(binaryToDecimal(num_binary))"
   ]
  },
  {
   "cell_type": "code",
   "execution_count": 132,
   "metadata": {},
   "outputs": [
    {
     "name": "stdout",
     "output_type": "stream",
     "text": [
      "enter sentnce: AQuickBrownFoxJu mpsOverthe Do g\n",
      "vovels = 10 \n",
      " consonant = 22\n"
     ]
    }
   ],
   "source": [
    "sentence = input(\"enter sentnce: \")\n",
    "print(vowel_consonant_counter(sentence))"
   ]
  },
  {
   "cell_type": "code",
   "execution_count": 134,
   "metadata": {},
   "outputs": [
    {
     "name": "stdout",
     "output_type": "stream",
     "text": [
      "enter word: hahahahaha\n",
      "hahahahaha is not palendrome\n"
     ]
    }
   ],
   "source": [
    "word = input(\"enter word: \")\n",
    "print(isPalindrome(word))"
   ]
  },
  {
   "cell_type": "code",
   "execution_count": 137,
   "metadata": {},
   "outputs": [
    {
     "name": "stdout",
     "output_type": "stream",
     "text": [
      "enter sentnce: python 2.3&#$\n",
      "numbers = 2 \n",
      " alphabets = 6 \n",
      " spaces = 1 \n",
      " special characters = 4\n"
     ]
    }
   ],
   "source": [
    "sentence = input(\"enter sentnce: \")\n",
    "print(count_alphabets_numbers_special_words(sentence))"
   ]
  },
  {
   "cell_type": "code",
   "execution_count": 138,
   "metadata": {},
   "outputs": [
    {
     "name": "stdout",
     "output_type": "stream",
     "text": [
      "enter number: 4\n",
      "* \n",
      "* * \n",
      "* * * \n",
      "* * * * \n",
      "* * * \n",
      "* * \n",
      "* \n",
      "\n"
     ]
    }
   ],
   "source": [
    "num = int(input(\"enter number: \"))\n",
    "staric_pyramid(num)"
   ]
  },
  {
   "cell_type": "code",
   "execution_count": 148,
   "metadata": {},
   "outputs": [
    {
     "name": "stdout",
     "output_type": "stream",
     "text": [
      "enter number: 6\n",
      "1 \n",
      "1 2 \n",
      "1 2 3 \n",
      "1 2 3 4 \n",
      "1 2 3 4 5 \n",
      "1 2 3 4 5 6 \n",
      "1 2 3 4 5 \n",
      "1 2 3 4 \n",
      "1 2 3 \n",
      "1 2 \n",
      "1 \n",
      "\n"
     ]
    }
   ],
   "source": [
    "num = int(input(\"enter number: \"))\n",
    "number_pyramid(num)"
   ]
  },
  {
   "cell_type": "code",
   "execution_count": 142,
   "metadata": {},
   "outputs": [
    {
     "name": "stdout",
     "output_type": "stream",
     "text": [
      "enter number: 9\n",
      "1 \n",
      "2 2 \n",
      "3 3 3 \n",
      "4 4 4 4 \n",
      "5 5 5 5 5 \n",
      "6 6 6 6 6 6 \n",
      "7 7 7 7 7 7 7 \n",
      "8 8 8 8 8 8 8 8 \n",
      "9 9 9 9 9 9 9 9 9 \n"
     ]
    }
   ],
   "source": [
    "num = int(input(\"enter number: \"))\n",
    "number_triangle(num)"
   ]
  },
  {
   "cell_type": "code",
   "execution_count": null,
   "metadata": {},
   "outputs": [],
   "source": []
  }
 ],
 "metadata": {
  "kernelspec": {
   "display_name": "Python 3",
   "language": "python",
   "name": "python3"
  },
  "language_info": {
   "codemirror_mode": {
    "name": "ipython",
    "version": 3
   },
   "file_extension": ".py",
   "mimetype": "text/x-python",
   "name": "python",
   "nbconvert_exporter": "python",
   "pygments_lexer": "ipython3",
   "version": "3.7.3"
  }
 },
 "nbformat": 4,
 "nbformat_minor": 2
}
