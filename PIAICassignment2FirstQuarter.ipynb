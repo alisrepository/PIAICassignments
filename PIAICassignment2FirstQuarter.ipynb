{
 "cells": [
  {
   "cell_type": "code",
   "execution_count": 7,
   "metadata": {},
   "outputs": [
    {
     "name": "stdout",
     "output_type": "stream",
     "text": [
      "chickens =  23  rabits =  12\n"
     ]
    }
   ],
   "source": [
    "#Q1\n",
    "def solve(num_heads, num_legs):\n",
    "    no_solution = 'one of the entry is wrong!'\n",
    "    for i in range(num_heads + 1):\n",
    "        j = num_heads - i\n",
    "        if 2 * i + 4 * j == num_legs:\n",
    "            return i, j\n",
    "    return no_solution, no_solution\n",
    "\n",
    "answer = solve(35, 94)\n",
    "print(\"chickens = \", answer[0], \" rabits = \", answer[1])"
   ]
  },
  {
   "cell_type": "code",
   "execution_count": 8,
   "metadata": {},
   "outputs": [
    {
     "name": "stdout",
     "output_type": "stream",
     "text": [
      "helloworld\n"
     ]
    }
   ],
   "source": [
    "#Q2\n",
    "string  = \"h1e2l3l4o5w6o7r8l9d\"\n",
    "print(string[::2])"
   ]
  },
  {
   "cell_type": "code",
   "execution_count": 9,
   "metadata": {},
   "outputs": [
    {
     "name": "stdout",
     "output_type": "stream",
     "text": [
      "enter to print reverse: rise to vote sir\n",
      "ris etov ot esir\n"
     ]
    }
   ],
   "source": [
    "#Q3\n",
    "string = input(\"enter to print reverse: \")\n",
    "print(string[::-1])"
   ]
  },
  {
   "cell_type": "code",
   "execution_count": 11,
   "metadata": {},
   "outputs": [
    {
     "name": "stdout",
     "output_type": "stream",
     "text": [
      "abcdeabc\n",
      "a,2\n",
      "b,2\n",
      "c,2\n",
      "d,1\n",
      "e,1\n"
     ]
    }
   ],
   "source": [
    "#Q4\n",
    "dic = {}\n",
    "string = input()\n",
    "for s in string:\n",
    "    dic[s] = dic.get(s, 0) + 1\n",
    "print('\\n'.join(['%s,%s' % (k, v) for k, v in dic.items()]))"
   ]
  },
  {
   "cell_type": "code",
   "execution_count": 122,
   "metadata": {},
   "outputs": [
    {
     "name": "stdout",
     "output_type": "stream",
     "text": [
      "25\n"
     ]
    }
   ],
   "source": [
    "#Q5\n",
    "class Shape():\n",
    "    def area(self):\n",
    "        print(0)\n",
    "\n",
    "class Square(Shape):\n",
    "    def __init__(self, length):\n",
    "        self.length = length\n",
    "        \n",
    "    def area(self):\n",
    "        print(self.length * self.length)\n",
    "        \n",
    "s = Square(5)\n",
    "s.area()"
   ]
  },
  {
   "cell_type": "code",
   "execution_count": 13,
   "metadata": {},
   "outputs": [
    {
     "name": "stdout",
     "output_type": "stream",
     "text": [
      "numinator: 4\n",
      "denominator: 0\n",
      "divided by zero error\n"
     ]
    }
   ],
   "source": [
    "#Q6\n",
    "numirator = input(\"numinator: \")\n",
    "denominator = input(\"denominator: \")\n",
    "try:\n",
    "    num = numirator / denominator\n",
    "except:\n",
    "    print(\"divided by zero error\")"
   ]
  },
  {
   "cell_type": "code",
   "execution_count": 23,
   "metadata": {},
   "outputs": [
    {
     "name": "stdout",
     "output_type": "stream",
     "text": [
      "xyz12\n"
     ]
    }
   ],
   "source": [
    "#Q7\n",
    "import re\n",
    "string = 'my email is xyz12@gmail.com'\n",
    "match = re.search(r'([\\w.-]+)@([\\w.-]+)', string)\n",
    "print(match.group(1)) ## 'alice-b' (the username, group 1)"
   ]
  },
  {
   "cell_type": "code",
   "execution_count": 24,
   "metadata": {},
   "outputs": [
    {
     "name": "stdout",
     "output_type": "stream",
     "text": [
      "['2', '3']\n"
     ]
    }
   ],
   "source": [
    "#Q8\n",
    "string = \"2 dogs 3 cats\"\n",
    "num = re.findall(r'\\d+', string)\n",
    "print(num)"
   ]
  },
  {
   "cell_type": "code",
   "execution_count": 29,
   "metadata": {},
   "outputs": [
    {
     "name": "stdout",
     "output_type": "stream",
     "text": [
      "Enter a number: 5\n",
      "computed value :  3.55\n"
     ]
    }
   ],
   "source": [
    "#Q9\n",
    "num = int(input(\"Enter a number: \"))\n",
    "temp = 0\n",
    "\n",
    "for each_number in range(1,num+1):\n",
    "    temp = temp + (each_number / ( each_number + 1))\n",
    "\n",
    "print(\"computed value : \",format(round(temp, 2)))"
   ]
  },
  {
   "cell_type": "code",
   "execution_count": 35,
   "metadata": {},
   "outputs": [
    {
     "name": "stdout",
     "output_type": "stream",
     "text": [
      "501\n"
     ]
    }
   ],
   "source": [
    "#Q10\n",
    "def calc(n):\n",
    "    if n == 0:\n",
    "        return 1\n",
    "    if n == 0:\n",
    "        return n\n",
    "    else:\n",
    "        return calc(n - 1) + 100\n",
    "    \n",
    "print(calc(5))"
   ]
  },
  {
   "cell_type": "code",
   "execution_count": 79,
   "metadata": {},
   "outputs": [
    {
     "name": "stdout",
     "output_type": "stream",
     "text": [
      "('valid', 'Kabx1$Az')\n"
     ]
    }
   ],
   "source": [
    "#Q11\n",
    "def check(password):\n",
    "    if (len(password) < 8 or len(password) > 12):\n",
    "        return \"invalid\"\n",
    "    if not re.search(\"[a-z]\", password): \n",
    "        return \"invalid\"\n",
    "    if not re.search(\"[A-Z]\", password): \n",
    "        return \"invalid\"\n",
    "    if not re.search(\"[0-9]\", password): \n",
    "        return \"invalid\"\n",
    "    if not re.search(\"[@$_]\", password):\n",
    "        return \"invalid\"\n",
    "    if re.search(\"\\s\", password): \n",
    "        return \"invalid\"\n",
    "    else: \n",
    "        return \"valid\",password\n",
    "print(check(\"Kabx1$Az\"))"
   ]
  },
  {
   "cell_type": "code",
   "execution_count": 139,
   "metadata": {},
   "outputs": [
    {
     "name": "stdout",
     "output_type": "stream",
     "text": [
      "[('Jason', 21, 85), ('Jhon', 20, 90), ('Jhony', 17, 91), ('Jhony', 17, 93), ('Tom', 19, 80)]\n"
     ]
    }
   ],
   "source": [
    "#Q12\n",
    "import operator\n",
    "my_list = [ ('Tom', 19, 80), ('Jhon', 20, 90), ('Jhony', 17, 91), ('Jhony', 17, 93), ('Jason', 21, 85) ]\n",
    "my_list.sort(key = operator.itemgetter(0))\n",
    "print(my_list)"
   ]
  },
  {
   "cell_type": "code",
   "execution_count": 117,
   "metadata": {},
   "outputs": [
    {
     "name": "stdout",
     "output_type": "stream",
     "text": [
      "number : 50\n",
      "7\n",
      "14\n",
      "21\n",
      "28\n",
      "35\n",
      "42\n",
      "49\n"
     ]
    }
   ],
   "source": [
    "#Q13\n",
    "# A simple generator function\n",
    "def my_gen(n):\n",
    "    for num in range(1, n + 1):\n",
    "        if num % 7 == 0:\n",
    "            yield num\n",
    "\n",
    "number = int(input(\"number : \"))\n",
    "a = my_gen(number)\n",
    "\n",
    "for num in range(number):\n",
    "    try:\n",
    "        print(next(a))\n",
    "    except:\n",
    "        pass\n"
   ]
  },
  {
   "cell_type": "code",
   "execution_count": 91,
   "metadata": {},
   "outputs": [
    {
     "name": "stdout",
     "output_type": "stream",
     "text": [
      "move steps UP: 5\n",
      "move steps DOWN: 4\n",
      "move steps LEFT: 8\n",
      "move steps RIGHT: 3\n",
      "y_coordinate  1\n",
      "x_coordinate  -5\n",
      "distance between origin (0, 0) and final destination after movement(-5, 1) is 5.0990195135927845\n"
     ]
    }
   ],
   "source": [
    "#Q14\n",
    "\n",
    "def cal_distance(x1, x2, y1, y2):\n",
    "    return f\"distance between origin ({x1}, {x2}) and final destination after movement({y1}, {y2}) is {((x1 - y1)**2 + (x2 - y2)**2)**0.5}\"\n",
    "\n",
    "x_coordinate = 0\n",
    "y_coordinate = 0\n",
    "\n",
    "origin = (0, 0)\n",
    "\n",
    "up = int(input(\"move steps UP: \"))\n",
    "down = int(input(\"move steps DOWN: \"))\n",
    "left = int(input(\"move steps LEFT: \"))\n",
    "right = int(input(\"move steps RIGHT: \"))\n",
    "\n",
    "y_coordinate += up\n",
    "y_coordinate -= down\n",
    "print(\"y_coordinate \",y_coordinate)\n",
    "x_coordinate -= left\n",
    "x_coordinate += right\n",
    "print(\"x_coordinate \",x_coordinate)\n",
    "\n",
    "print(cal_distance(origin[0], origin[1], x_coordinate, y_coordinate))"
   ]
  },
  {
   "cell_type": "code",
   "execution_count": 104,
   "metadata": {},
   "outputs": [
    {
     "name": "stdout",
     "output_type": "stream",
     "text": [
      "enter sentence: new to python or chosing between python 2 or python 3. read python 2 or python 3.\n",
      "new : 1\n",
      "to : 1\n",
      "python : 5\n",
      "or : 3\n",
      "chosing : 1\n",
      "between : 1\n",
      "2 : 2\n",
      "3. : 2\n",
      "read : 1\n"
     ]
    }
   ],
   "source": [
    "#Q15\n",
    "def count_each_word_in_list(word, lst):\n",
    "    counter = 0\n",
    "    for each_word in lst:\n",
    "        if word == each_word:\n",
    "            counter += 1\n",
    "    return counter\n",
    "    \n",
    "string = input(\"enter sentence: \")\n",
    "lst = string.split(\" \")\n",
    "dictionary = {}\n",
    "for each_word in lst:\n",
    "    dictionary[each_word] = count_each_word_in_list(each_word, lst)\n",
    "\n",
    "for key, val in dictionary.items():\n",
    "    print(f\"{key} : {val}\")"
   ]
  },
  {
   "cell_type": "code",
   "execution_count": null,
   "metadata": {},
   "outputs": [],
   "source": []
  }
 ],
 "metadata": {
  "kernelspec": {
   "display_name": "Python 3",
   "language": "python",
   "name": "python3"
  },
  "language_info": {
   "codemirror_mode": {
    "name": "ipython",
    "version": 3
   },
   "file_extension": ".py",
   "mimetype": "text/x-python",
   "name": "python",
   "nbconvert_exporter": "python",
   "pygments_lexer": "ipython3",
   "version": "3.7.3"
  }
 },
 "nbformat": 4,
 "nbformat_minor": 2
}
